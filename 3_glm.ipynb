{
 "cells": [
  {
   "cell_type": "code",
   "execution_count": 2,
   "metadata": {
    "collapsed": false
   },
   "outputs": [
    {
     "name": "stderr",
     "output_type": "stream",
     "text": [
      "Warning message:\n",
      "In `[<-.factor`(`*tmp*`, ri, value = \"⋮\"): invalid factor level, NA generatedWarning message:\n",
      "In `[<-.factor`(`*tmp*`, ri, value = \"⋮\"): invalid factor level, NA generated"
     ]
    },
    {
     "data": {
      "text/html": [
       "<table>\n",
       "<thead><tr><th></th><th scope=col>y</th><th scope=col>x</th><th scope=col>f</th></tr></thead>\n",
       "<tbody>\n",
       "\t<tr><th scope=row>1</th><td>6</td><td>8.31</td><td>C</td></tr>\n",
       "\t<tr><th scope=row>2</th><td>6</td><td>9.44</td><td>C</td></tr>\n",
       "\t<tr><th scope=row>3</th><td>6</td><td>9.5</td><td>C</td></tr>\n",
       "\t<tr><th scope=row>4</th><td>12</td><td>9.07</td><td>C</td></tr>\n",
       "\t<tr><th scope=row>5</th><td>10</td><td>10.16</td><td>C</td></tr>\n",
       "\t<tr><th scope=row>6</th><td>4</td><td>8.32</td><td>C</td></tr>\n",
       "\t<tr><th scope=row>7</th><td>9</td><td>10.61</td><td>C</td></tr>\n",
       "\t<tr><th scope=row>8</th><td>9</td><td>10.06</td><td>C</td></tr>\n",
       "\t<tr><th scope=row>9</th><td>9</td><td>9.93</td><td>C</td></tr>\n",
       "\t<tr><th scope=row>10</th><td>11</td><td>10.43</td><td>C</td></tr>\n",
       "\t<tr><th scope=row>11</th><td>6</td><td>10.36</td><td>C</td></tr>\n",
       "\t<tr><th scope=row>12</th><td>10</td><td>10.15</td><td>C</td></tr>\n",
       "\t<tr><th scope=row>13</th><td>6</td><td>10.92</td><td>C</td></tr>\n",
       "\t<tr><th scope=row>14</th><td>10</td><td>8.85</td><td>C</td></tr>\n",
       "\t<tr><th scope=row>15</th><td>11</td><td>9.42</td><td>C</td></tr>\n",
       "\t<tr><th scope=row>16</th><td>8</td><td>11.11</td><td>C</td></tr>\n",
       "\t<tr><th scope=row>17</th><td>3</td><td>8.02</td><td>C</td></tr>\n",
       "\t<tr><th scope=row>18</th><td>8</td><td>11.93</td><td>C</td></tr>\n",
       "\t<tr><th scope=row>19</th><td>5</td><td>8.55</td><td>C</td></tr>\n",
       "\t<tr><th scope=row>20</th><td>5</td><td>7.19</td><td>C</td></tr>\n",
       "\t<tr><th scope=row>21</th><td>4</td><td>9.83</td><td>C</td></tr>\n",
       "\t<tr><th scope=row>22</th><td>11</td><td>10.79</td><td>C</td></tr>\n",
       "\t<tr><th scope=row>23</th><td>5</td><td>8.89</td><td>C</td></tr>\n",
       "\t<tr><th scope=row>24</th><td>10</td><td>10.09</td><td>C</td></tr>\n",
       "\t<tr><th scope=row>25</th><td>6</td><td>11.63</td><td>C</td></tr>\n",
       "\t<tr><th scope=row>26</th><td>6</td><td>10.21</td><td>C</td></tr>\n",
       "\t<tr><th scope=row>27</th><td>7</td><td>9.45</td><td>C</td></tr>\n",
       "\t<tr><th scope=row>28</th><td>9</td><td>10.44</td><td>C</td></tr>\n",
       "\t<tr><th scope=row>29</th><td>3</td><td>9.44</td><td>C</td></tr>\n",
       "\t<tr><th scope=row>30</th><td>10</td><td>10.48</td><td>C</td></tr>\n",
       "\t<tr><th scope=row>31</th><td>⋮</td><td>⋮</td><td>NA</td></tr>\n",
       "\t<tr><th scope=row>71</th><td>10</td><td>10.54</td><td>T</td></tr>\n",
       "\t<tr><th scope=row>72</th><td>8</td><td>11.3</td><td>T</td></tr>\n",
       "\t<tr><th scope=row>73</th><td>8</td><td>12.4</td><td>T</td></tr>\n",
       "\t<tr><th scope=row>74</th><td>7</td><td>10.18</td><td>T</td></tr>\n",
       "\t<tr><th scope=row>75</th><td>5</td><td>9.53</td><td>T</td></tr>\n",
       "\t<tr><th scope=row>76</th><td>6</td><td>10.24</td><td>T</td></tr>\n",
       "\t<tr><th scope=row>77</th><td>8</td><td>11.76</td><td>T</td></tr>\n",
       "\t<tr><th scope=row>78</th><td>9</td><td>9.52</td><td>T</td></tr>\n",
       "\t<tr><th scope=row>79</th><td>9</td><td>10.4</td><td>T</td></tr>\n",
       "\t<tr><th scope=row>80</th><td>6</td><td>9.96</td><td>T</td></tr>\n",
       "\t<tr><th scope=row>81</th><td>7</td><td>10.3</td><td>T</td></tr>\n",
       "\t<tr><th scope=row>82</th><td>10</td><td>11.54</td><td>T</td></tr>\n",
       "\t<tr><th scope=row>83</th><td>6</td><td>9.42</td><td>T</td></tr>\n",
       "\t<tr><th scope=row>84</th><td>11</td><td>11.28</td><td>T</td></tr>\n",
       "\t<tr><th scope=row>85</th><td>11</td><td>9.73</td><td>T</td></tr>\n",
       "\t<tr><th scope=row>86</th><td>11</td><td>10.78</td><td>T</td></tr>\n",
       "\t<tr><th scope=row>87</th><td>5</td><td>10.21</td><td>T</td></tr>\n",
       "\t<tr><th scope=row>88</th><td>6</td><td>10.51</td><td>T</td></tr>\n",
       "\t<tr><th scope=row>89</th><td>4</td><td>10.73</td><td>T</td></tr>\n",
       "\t<tr><th scope=row>90</th><td>5</td><td>8.85</td><td>T</td></tr>\n",
       "\t<tr><th scope=row>91</th><td>6</td><td>11.2</td><td>T</td></tr>\n",
       "\t<tr><th scope=row>92</th><td>5</td><td>9.86</td><td>T</td></tr>\n",
       "\t<tr><th scope=row>93</th><td>8</td><td>11.54</td><td>T</td></tr>\n",
       "\t<tr><th scope=row>94</th><td>5</td><td>10.03</td><td>T</td></tr>\n",
       "\t<tr><th scope=row>95</th><td>9</td><td>11.88</td><td>T</td></tr>\n",
       "\t<tr><th scope=row>96</th><td>8</td><td>9.15</td><td>T</td></tr>\n",
       "\t<tr><th scope=row>97</th><td>6</td><td>8.52</td><td>T</td></tr>\n",
       "\t<tr><th scope=row>98</th><td>8</td><td>10.24</td><td>T</td></tr>\n",
       "\t<tr><th scope=row>99</th><td>7</td><td>10.86</td><td>T</td></tr>\n",
       "\t<tr><th scope=row>100</th><td>9</td><td>9.97</td><td>T</td></tr>\n",
       "</tbody>\n",
       "</table>\n"
      ],
      "text/latex": [
       "\\begin{tabular}{r|lll}\n",
       "  & y & x & f\\\\\n",
       "\\hline\n",
       "\t1 & 6 & 8.31 & C\\\\\n",
       "\t2 & 6 & 9.44 & C\\\\\n",
       "\t3 & 6 & 9.5 & C\\\\\n",
       "\t4 & 12 & 9.07 & C\\\\\n",
       "\t5 & 10 & 10.16 & C\\\\\n",
       "\t6 & 4 & 8.32 & C\\\\\n",
       "\t7 & 9 & 10.61 & C\\\\\n",
       "\t8 & 9 & 10.06 & C\\\\\n",
       "\t9 & 9 & 9.93 & C\\\\\n",
       "\t10 & 11 & 10.43 & C\\\\\n",
       "\t11 & 6 & 10.36 & C\\\\\n",
       "\t12 & 10 & 10.15 & C\\\\\n",
       "\t13 & 6 & 10.92 & C\\\\\n",
       "\t14 & 10 & 8.85 & C\\\\\n",
       "\t15 & 11 & 9.42 & C\\\\\n",
       "\t16 & 8 & 11.11 & C\\\\\n",
       "\t17 & 3 & 8.02 & C\\\\\n",
       "\t18 & 8 & 11.93 & C\\\\\n",
       "\t19 & 5 & 8.55 & C\\\\\n",
       "\t20 & 5 & 7.19 & C\\\\\n",
       "\t21 & 4 & 9.83 & C\\\\\n",
       "\t22 & 11 & 10.79 & C\\\\\n",
       "\t23 & 5 & 8.89 & C\\\\\n",
       "\t24 & 10 & 10.09 & C\\\\\n",
       "\t25 & 6 & 11.63 & C\\\\\n",
       "\t26 & 6 & 10.21 & C\\\\\n",
       "\t27 & 7 & 9.45 & C\\\\\n",
       "\t28 & 9 & 10.44 & C\\\\\n",
       "\t29 & 3 & 9.44 & C\\\\\n",
       "\t30 & 10 & 10.48 & C\\\\\n",
       "\t31 & ⋮ & ⋮ & NA\\\\\n",
       "\t71 & 10 & 10.54 & T\\\\\n",
       "\t72 & 8 & 11.3 & T\\\\\n",
       "\t73 & 8 & 12.4 & T\\\\\n",
       "\t74 & 7 & 10.18 & T\\\\\n",
       "\t75 & 5 & 9.53 & T\\\\\n",
       "\t76 & 6 & 10.24 & T\\\\\n",
       "\t77 & 8 & 11.76 & T\\\\\n",
       "\t78 & 9 & 9.52 & T\\\\\n",
       "\t79 & 9 & 10.4 & T\\\\\n",
       "\t80 & 6 & 9.96 & T\\\\\n",
       "\t81 & 7 & 10.3 & T\\\\\n",
       "\t82 & 10 & 11.54 & T\\\\\n",
       "\t83 & 6 & 9.42 & T\\\\\n",
       "\t84 & 11 & 11.28 & T\\\\\n",
       "\t85 & 11 & 9.73 & T\\\\\n",
       "\t86 & 11 & 10.78 & T\\\\\n",
       "\t87 & 5 & 10.21 & T\\\\\n",
       "\t88 & 6 & 10.51 & T\\\\\n",
       "\t89 & 4 & 10.73 & T\\\\\n",
       "\t90 & 5 & 8.85 & T\\\\\n",
       "\t91 & 6 & 11.2 & T\\\\\n",
       "\t92 & 5 & 9.86 & T\\\\\n",
       "\t93 & 8 & 11.54 & T\\\\\n",
       "\t94 & 5 & 10.03 & T\\\\\n",
       "\t95 & 9 & 11.88 & T\\\\\n",
       "\t96 & 8 & 9.15 & T\\\\\n",
       "\t97 & 6 & 8.52 & T\\\\\n",
       "\t98 & 8 & 10.24 & T\\\\\n",
       "\t99 & 7 & 10.86 & T\\\\\n",
       "\t100 & 9 & 9.97 & T\\\\\n",
       "\\end{tabular}\n"
      ],
      "text/plain": [
       "     y     x f\n",
       "1    6  8.31 C\n",
       "2    6  9.44 C\n",
       "3    6  9.50 C\n",
       "4   12  9.07 C\n",
       "5   10 10.16 C\n",
       "6    4  8.32 C\n",
       "7    9 10.61 C\n",
       "8    9 10.06 C\n",
       "9    9  9.93 C\n",
       "10  11 10.43 C\n",
       "11   6 10.36 C\n",
       "12  10 10.15 C\n",
       "13   6 10.92 C\n",
       "14  10  8.85 C\n",
       "15  11  9.42 C\n",
       "16   8 11.11 C\n",
       "17   3  8.02 C\n",
       "18   8 11.93 C\n",
       "19   5  8.55 C\n",
       "20   5  7.19 C\n",
       "21   4  9.83 C\n",
       "22  11 10.79 C\n",
       "23   5  8.89 C\n",
       "24  10 10.09 C\n",
       "25   6 11.63 C\n",
       "26   6 10.21 C\n",
       "27   7  9.45 C\n",
       "28   9 10.44 C\n",
       "29   3  9.44 C\n",
       "30  10 10.48 C\n",
       "31   2  9.43 C\n",
       "32   9 10.32 C\n",
       "33  10 10.33 C\n",
       "34   5  8.50 C\n",
       "35  11  9.41 C\n",
       "36  10  8.96 C\n",
       "37   4  9.67 C\n",
       "38   8 10.26 C\n",
       "39   9 10.36 C\n",
       "40  12 11.80 C\n",
       "41   8 10.94 C\n",
       "42   9 10.25 C\n",
       "43   8  8.74 C\n",
       "44   6 10.46 C\n",
       "45   6  9.37 C\n",
       "46  10  9.74 C\n",
       "47  10  8.95 C\n",
       "48   9  8.74 C\n",
       "49  12 11.32 C\n",
       "50   6  9.25 C\n",
       "51  14 10.14 T\n",
       "52   6  9.05 T\n",
       "53   7  9.89 T\n",
       "54   9  8.76 T\n",
       "55   6 12.04 T\n",
       "56   7  9.91 T\n",
       "57   9  9.84 T\n",
       "58  13 11.87 T\n",
       "59   9 10.16 T\n",
       "60  13  9.34 T\n",
       "61   7 10.17 T\n",
       "62   8 10.99 T\n",
       "63  10  9.19 T\n",
       "64   7 10.67 T\n",
       "65  12 10.96 T\n",
       "66   6 10.55 T\n",
       "67  15  9.69 T\n",
       "68   3 10.91 T\n",
       "69   4  9.60 T\n",
       "70   6 12.37 T\n",
       "71  10 10.54 T\n",
       "72   8 11.30 T\n",
       "73   8 12.40 T\n",
       "74   7 10.18 T\n",
       "75   5  9.53 T\n",
       "76   6 10.24 T\n",
       "77   8 11.76 T\n",
       "78   9  9.52 T\n",
       "79   9 10.40 T\n",
       "80   6  9.96 T\n",
       "81   7 10.30 T\n",
       "82  10 11.54 T\n",
       "83   6  9.42 T\n",
       "84  11 11.28 T\n",
       "85  11  9.73 T\n",
       "86  11 10.78 T\n",
       "87   5 10.21 T\n",
       "88   6 10.51 T\n",
       "89   4 10.73 T\n",
       "90   5  8.85 T\n",
       "91   6 11.20 T\n",
       "92   5  9.86 T\n",
       "93   8 11.54 T\n",
       "94   5 10.03 T\n",
       "95   9 11.88 T\n",
       "96   8  9.15 T\n",
       "97   6  8.52 T\n",
       "98   8 10.24 T\n",
       "99   7 10.86 T\n",
       "100  9  9.97 T"
      ]
     },
     "execution_count": 2,
     "metadata": {},
     "output_type": "execute_result"
    }
   ],
   "source": [
    "d <- read.csv('data3a.csv')\n",
    "d"
   ]
  },
  {
   "cell_type": "markdown",
   "metadata": {},
   "source": [
    "たとえば、x(個体サイズ)だけ見たい場合は、こんなかんじ。"
   ]
  },
  {
   "cell_type": "code",
   "execution_count": 3,
   "metadata": {
    "collapsed": false
   },
   "outputs": [
    {
     "data": {
      "text/html": [
       "<ol class=list-inline>\n",
       "\t<li>8.31</li>\n",
       "\t<li>9.44</li>\n",
       "\t<li>9.5</li>\n",
       "\t<li>9.07</li>\n",
       "\t<li>10.16</li>\n",
       "\t<li>8.32</li>\n",
       "\t<li>10.61</li>\n",
       "\t<li>10.06</li>\n",
       "\t<li>9.93</li>\n",
       "\t<li>10.43</li>\n",
       "\t<li>10.36</li>\n",
       "\t<li>10.15</li>\n",
       "\t<li>10.92</li>\n",
       "\t<li>8.85</li>\n",
       "\t<li>9.42</li>\n",
       "\t<li>11.11</li>\n",
       "\t<li>8.02</li>\n",
       "\t<li>11.93</li>\n",
       "\t<li>8.55</li>\n",
       "\t<li>7.19</li>\n",
       "\t<li>9.83</li>\n",
       "\t<li>10.79</li>\n",
       "\t<li>8.89</li>\n",
       "\t<li>10.09</li>\n",
       "\t<li>11.63</li>\n",
       "\t<li>10.21</li>\n",
       "\t<li>9.45</li>\n",
       "\t<li>10.44</li>\n",
       "\t<li>9.44</li>\n",
       "\t<li>10.48</li>\n",
       "\t<li>9.43</li>\n",
       "\t<li>10.32</li>\n",
       "\t<li>10.33</li>\n",
       "\t<li>8.5</li>\n",
       "\t<li>9.41</li>\n",
       "\t<li>8.96</li>\n",
       "\t<li>9.67</li>\n",
       "\t<li>10.26</li>\n",
       "\t<li>10.36</li>\n",
       "\t<li>11.8</li>\n",
       "\t<li>10.94</li>\n",
       "\t<li>10.25</li>\n",
       "\t<li>8.74</li>\n",
       "\t<li>10.46</li>\n",
       "\t<li>9.37</li>\n",
       "\t<li>9.74</li>\n",
       "\t<li>8.95</li>\n",
       "\t<li>8.74</li>\n",
       "\t<li>11.32</li>\n",
       "\t<li>9.25</li>\n",
       "\t<li>10.14</li>\n",
       "\t<li>9.05</li>\n",
       "\t<li>9.89</li>\n",
       "\t<li>8.76</li>\n",
       "\t<li>12.04</li>\n",
       "\t<li>9.91</li>\n",
       "\t<li>9.84</li>\n",
       "\t<li>11.87</li>\n",
       "\t<li>10.16</li>\n",
       "\t<li>9.34</li>\n",
       "\t<li>10.17</li>\n",
       "\t<li>10.99</li>\n",
       "\t<li>9.19</li>\n",
       "\t<li>10.67</li>\n",
       "\t<li>10.96</li>\n",
       "\t<li>10.55</li>\n",
       "\t<li>9.69</li>\n",
       "\t<li>10.91</li>\n",
       "\t<li>9.6</li>\n",
       "\t<li>12.37</li>\n",
       "\t<li>10.54</li>\n",
       "\t<li>11.3</li>\n",
       "\t<li>12.4</li>\n",
       "\t<li>10.18</li>\n",
       "\t<li>9.53</li>\n",
       "\t<li>10.24</li>\n",
       "\t<li>11.76</li>\n",
       "\t<li>9.52</li>\n",
       "\t<li>10.4</li>\n",
       "\t<li>9.96</li>\n",
       "\t<li>10.3</li>\n",
       "\t<li>11.54</li>\n",
       "\t<li>9.42</li>\n",
       "\t<li>11.28</li>\n",
       "\t<li>9.73</li>\n",
       "\t<li>10.78</li>\n",
       "\t<li>10.21</li>\n",
       "\t<li>10.51</li>\n",
       "\t<li>10.73</li>\n",
       "\t<li>8.85</li>\n",
       "\t<li>11.2</li>\n",
       "\t<li>9.86</li>\n",
       "\t<li>11.54</li>\n",
       "\t<li>10.03</li>\n",
       "\t<li>11.88</li>\n",
       "\t<li>9.15</li>\n",
       "\t<li>8.52</li>\n",
       "\t<li>10.24</li>\n",
       "\t<li>10.86</li>\n",
       "\t<li>9.97</li>\n",
       "</ol>\n"
      ],
      "text/latex": [
       "\\begin{enumerate*}\n",
       "\\item 8.31\n",
       "\\item 9.44\n",
       "\\item 9.5\n",
       "\\item 9.07\n",
       "\\item 10.16\n",
       "\\item 8.32\n",
       "\\item 10.61\n",
       "\\item 10.06\n",
       "\\item 9.93\n",
       "\\item 10.43\n",
       "\\item 10.36\n",
       "\\item 10.15\n",
       "\\item 10.92\n",
       "\\item 8.85\n",
       "\\item 9.42\n",
       "\\item 11.11\n",
       "\\item 8.02\n",
       "\\item 11.93\n",
       "\\item 8.55\n",
       "\\item 7.19\n",
       "\\item 9.83\n",
       "\\item 10.79\n",
       "\\item 8.89\n",
       "\\item 10.09\n",
       "\\item 11.63\n",
       "\\item 10.21\n",
       "\\item 9.45\n",
       "\\item 10.44\n",
       "\\item 9.44\n",
       "\\item 10.48\n",
       "\\item 9.43\n",
       "\\item 10.32\n",
       "\\item 10.33\n",
       "\\item 8.5\n",
       "\\item 9.41\n",
       "\\item 8.96\n",
       "\\item 9.67\n",
       "\\item 10.26\n",
       "\\item 10.36\n",
       "\\item 11.8\n",
       "\\item 10.94\n",
       "\\item 10.25\n",
       "\\item 8.74\n",
       "\\item 10.46\n",
       "\\item 9.37\n",
       "\\item 9.74\n",
       "\\item 8.95\n",
       "\\item 8.74\n",
       "\\item 11.32\n",
       "\\item 9.25\n",
       "\\item 10.14\n",
       "\\item 9.05\n",
       "\\item 9.89\n",
       "\\item 8.76\n",
       "\\item 12.04\n",
       "\\item 9.91\n",
       "\\item 9.84\n",
       "\\item 11.87\n",
       "\\item 10.16\n",
       "\\item 9.34\n",
       "\\item 10.17\n",
       "\\item 10.99\n",
       "\\item 9.19\n",
       "\\item 10.67\n",
       "\\item 10.96\n",
       "\\item 10.55\n",
       "\\item 9.69\n",
       "\\item 10.91\n",
       "\\item 9.6\n",
       "\\item 12.37\n",
       "\\item 10.54\n",
       "\\item 11.3\n",
       "\\item 12.4\n",
       "\\item 10.18\n",
       "\\item 9.53\n",
       "\\item 10.24\n",
       "\\item 11.76\n",
       "\\item 9.52\n",
       "\\item 10.4\n",
       "\\item 9.96\n",
       "\\item 10.3\n",
       "\\item 11.54\n",
       "\\item 9.42\n",
       "\\item 11.28\n",
       "\\item 9.73\n",
       "\\item 10.78\n",
       "\\item 10.21\n",
       "\\item 10.51\n",
       "\\item 10.73\n",
       "\\item 8.85\n",
       "\\item 11.2\n",
       "\\item 9.86\n",
       "\\item 11.54\n",
       "\\item 10.03\n",
       "\\item 11.88\n",
       "\\item 9.15\n",
       "\\item 8.52\n",
       "\\item 10.24\n",
       "\\item 10.86\n",
       "\\item 9.97\n",
       "\\end{enumerate*}\n"
      ],
      "text/markdown": [
       "1. 8.31\n",
       "2. 9.44\n",
       "3. 9.5\n",
       "4. 9.07\n",
       "5. 10.16\n",
       "6. 8.32\n",
       "7. 10.61\n",
       "8. 10.06\n",
       "9. 9.93\n",
       "10. 10.43\n",
       "11. 10.36\n",
       "12. 10.15\n",
       "13. 10.92\n",
       "14. 8.85\n",
       "15. 9.42\n",
       "16. 11.11\n",
       "17. 8.02\n",
       "18. 11.93\n",
       "19. 8.55\n",
       "20. 7.19\n",
       "21. 9.83\n",
       "22. 10.79\n",
       "23. 8.89\n",
       "24. 10.09\n",
       "25. 11.63\n",
       "26. 10.21\n",
       "27. 9.45\n",
       "28. 10.44\n",
       "29. 9.44\n",
       "30. 10.48\n",
       "31. 9.43\n",
       "32. 10.32\n",
       "33. 10.33\n",
       "34. 8.5\n",
       "35. 9.41\n",
       "36. 8.96\n",
       "37. 9.67\n",
       "38. 10.26\n",
       "39. 10.36\n",
       "40. 11.8\n",
       "41. 10.94\n",
       "42. 10.25\n",
       "43. 8.74\n",
       "44. 10.46\n",
       "45. 9.37\n",
       "46. 9.74\n",
       "47. 8.95\n",
       "48. 8.74\n",
       "49. 11.32\n",
       "50. 9.25\n",
       "51. 10.14\n",
       "52. 9.05\n",
       "53. 9.89\n",
       "54. 8.76\n",
       "55. 12.04\n",
       "56. 9.91\n",
       "57. 9.84\n",
       "58. 11.87\n",
       "59. 10.16\n",
       "60. 9.34\n",
       "61. 10.17\n",
       "62. 10.99\n",
       "63. 9.19\n",
       "64. 10.67\n",
       "65. 10.96\n",
       "66. 10.55\n",
       "67. 9.69\n",
       "68. 10.91\n",
       "69. 9.6\n",
       "70. 12.37\n",
       "71. 10.54\n",
       "72. 11.3\n",
       "73. 12.4\n",
       "74. 10.18\n",
       "75. 9.53\n",
       "76. 10.24\n",
       "77. 11.76\n",
       "78. 9.52\n",
       "79. 10.4\n",
       "80. 9.96\n",
       "81. 10.3\n",
       "82. 11.54\n",
       "83. 9.42\n",
       "84. 11.28\n",
       "85. 9.73\n",
       "86. 10.78\n",
       "87. 10.21\n",
       "88. 10.51\n",
       "89. 10.73\n",
       "90. 8.85\n",
       "91. 11.2\n",
       "92. 9.86\n",
       "93. 11.54\n",
       "94. 10.03\n",
       "95. 11.88\n",
       "96. 9.15\n",
       "97. 8.52\n",
       "98. 10.24\n",
       "99. 10.86\n",
       "100. 9.97\n",
       "\n",
       "\n"
      ],
      "text/plain": [
       "  [1]  8.31  9.44  9.50  9.07 10.16  8.32 10.61 10.06  9.93 10.43 10.36 10.15\n",
       " [13] 10.92  8.85  9.42 11.11  8.02 11.93  8.55  7.19  9.83 10.79  8.89 10.09\n",
       " [25] 11.63 10.21  9.45 10.44  9.44 10.48  9.43 10.32 10.33  8.50  9.41  8.96\n",
       " [37]  9.67 10.26 10.36 11.80 10.94 10.25  8.74 10.46  9.37  9.74  8.95  8.74\n",
       " [49] 11.32  9.25 10.14  9.05  9.89  8.76 12.04  9.91  9.84 11.87 10.16  9.34\n",
       " [61] 10.17 10.99  9.19 10.67 10.96 10.55  9.69 10.91  9.60 12.37 10.54 11.30\n",
       " [73] 12.40 10.18  9.53 10.24 11.76  9.52 10.40  9.96 10.30 11.54  9.42 11.28\n",
       " [85]  9.73 10.78 10.21 10.51 10.73  8.85 11.20  9.86 11.54 10.03 11.88  9.15\n",
       " [97]  8.52 10.24 10.86  9.97"
      ]
     },
     "execution_count": 3,
     "metadata": {},
     "output_type": "execute_result"
    }
   ],
   "source": [
    "d$x"
   ]
  },
  {
   "cell_type": "raw",
   "metadata": {},
   "source": [
    "class()で型も確認できる。"
   ]
  },
  {
   "cell_type": "code",
   "execution_count": 4,
   "metadata": {
    "collapsed": false
   },
   "outputs": [
    {
     "data": {
      "text/html": [
       "'numeric'"
      ],
      "text/latex": [
       "'numeric'"
      ],
      "text/markdown": [
       "'numeric'"
      ],
      "text/plain": [
       "[1] \"numeric\""
      ]
     },
     "execution_count": 4,
     "metadata": {},
     "output_type": "execute_result"
    }
   ],
   "source": [
    "class(d$x)"
   ]
  },
  {
   "cell_type": "code",
   "execution_count": 5,
   "metadata": {
    "collapsed": false
   },
   "outputs": [
    {
     "data": {
      "text/html": [
       "'factor'"
      ],
      "text/latex": [
       "'factor'"
      ],
      "text/markdown": [
       "'factor'"
      ],
      "text/plain": [
       "[1] \"factor\""
      ]
     },
     "execution_count": 5,
     "metadata": {},
     "output_type": "execute_result"
    }
   ],
   "source": [
    "class(d$f)"
   ]
  },
  {
   "cell_type": "code",
   "execution_count": 7,
   "metadata": {
    "collapsed": false
   },
   "outputs": [
    {
     "data": {
      "text/plain": [
       "       y               x          f     \n",
       " Min.   : 2.00   Min.   : 7.190   C:50  \n",
       " 1st Qu.: 6.00   1st Qu.: 9.428   T:50  \n",
       " Median : 8.00   Median :10.155         \n",
       " Mean   : 7.83   Mean   :10.089         \n",
       " 3rd Qu.:10.00   3rd Qu.:10.685         \n",
       " Max.   :15.00   Max.   :12.400         "
      ]
     },
     "execution_count": 7,
     "metadata": {},
     "output_type": "execute_result"
    }
   ],
   "source": [
    "summary(d)"
   ]
  },
  {
   "cell_type": "markdown",
   "metadata": {},
   "source": [
    "何はともあれデータを図示する。pch はプロット点を指定するものらしい。19 が黒丸で、21 が白丸。"
   ]
  },
  {
   "cell_type": "code",
   "execution_count": 15,
   "metadata": {
    "collapsed": false
   },
   "outputs": [
    {
     "ename": "ERROR",
     "evalue": "Error in file(con, \"rb\"):  コネクションを開くことができません \n",
     "output_type": "error",
     "traceback": [
      "Error in file(con, \"rb\"):  コネクションを開くことができません \n"
     ]
    },
    {
     "data": {
      "image/png": "[encoded data removed]",
      "text/plain": [
       "plot without title"
      ]
     },
     "metadata": {
      "image/svg+xml": {
       "isolated": true
      }
     },
     "output_type": "display_data"
    }
   ],
   "source": [
    "plot(d$x, d$y, pch=c(21,19)[d$f])\n",
    "legend('topleft', legend=c('C', 'T'), pch=c(21, 19))"
   ]
  },
  {
   "cell_type": "markdown",
   "metadata": {},
   "source": [
    "第一引数に factor 型を指定すると、箱ひげ図が描写される。"
   ]
  },
  {
   "cell_type": "code",
   "execution_count": 17,
   "metadata": {
    "collapsed": false
   },
   "outputs": [
    {
     "ename": "ERROR",
     "evalue": "Error in file(con, \"rb\"):  コネクションを開くことができません \n",
     "output_type": "error",
     "traceback": [
      "Error in file(con, \"rb\"):  コネクションを開くことができません \n"
     ]
    },
    {
     "data": {
      "image/png": "[encoded data removed]",
      "text/plain": [
       "plot without title"
      ]
     },
     "metadata": {
      "image/svg+xml": {
       "isolated": true
      }
     },
     "output_type": "display_data"
    }
   ],
   "source": [
    "plot(d$f, d$y)"
   ]
  },
  {
   "cell_type": "markdown",
   "metadata": {},
   "source": [
    "対数リンク関数を使って当てはめを行う。"
   ]
  },
  {
   "cell_type": "code",
   "execution_count": 22,
   "metadata": {
    "collapsed": false
   },
   "outputs": [
    {
     "data": {
      "text/plain": [
       "\n",
       "Call:  glm(formula = y ~ x, family = poisson(link = \"log\"), data = d)\n",
       "\n",
       "Coefficients:\n",
       "(Intercept)            x  \n",
       "    1.29172      0.07566  \n",
       "\n",
       "Degrees of Freedom: 99 Total (i.e. Null);  98 Residual\n",
       "Null Deviance:\t    89.51 \n",
       "Residual Deviance: 84.99 \tAIC: 474.8"
      ]
     },
     "execution_count": 22,
     "metadata": {},
     "output_type": "execute_result"
    },
    {
     "data": {
      "text/plain": [
       "\n",
       "Call:\n",
       "glm(formula = y ~ x, family = poisson(link = \"log\"), data = d)\n",
       "\n",
       "Deviance Residuals: \n",
       "    Min       1Q   Median       3Q      Max  \n",
       "-2.3679  -0.7348  -0.1775   0.6987   2.3760  \n",
       "\n",
       "Coefficients:\n",
       "            Estimate Std. Error z value Pr(>|z|)    \n",
       "(Intercept)  1.29172    0.36369   3.552 0.000383 ***\n",
       "x            0.07566    0.03560   2.125 0.033580 *  \n",
       "---\n",
       "Signif. codes:  0 ‘***’ 0.001 ‘**’ 0.01 ‘*’ 0.05 ‘.’ 0.1 ‘ ’ 1\n",
       "\n",
       "(Dispersion parameter for poisson family taken to be 1)\n",
       "\n",
       "    Null deviance: 89.507  on 99  degrees of freedom\n",
       "Residual deviance: 84.993  on 98  degrees of freedom\n",
       "AIC: 474.77\n",
       "\n",
       "Number of Fisher Scoring iterations: 4\n"
      ]
     },
     "execution_count": 22,
     "metadata": {},
     "output_type": "execute_result"
    }
   ],
   "source": [
    "fit <- glm(y ~ x, data = d, family = poisson(link = 'log'))\n",
    "fit\n",
    "summary(fit)"
   ]
  },
  {
   "cell_type": "markdown",
   "metadata": {},
   "source": [
    "Estimate によると、切片$\\beta_1$は1.29, 傾き$\\beta_2$は0.076。\n",
    "Std. Error (SE) はこの推定値がどのくらいばらつくかを表している。\n",
    "対数尤度は最大尤度で最大値を取る凸関数。推定のばらつきが正規分布であると仮定し、さらに対数尤度関数は最大値付近での形が正規分布に近いと仮定すると（Wald統計量）、このように SE を求めることができる。\n",
    "z value: Wald 統計量。最尤推定値を SE で除した値。推定値が 0 から離れているかの目安になる値。"
   ]
  },
  {
   "cell_type": "markdown",
   "metadata": {},
   "source": [
    "logLik() で、最大尤度（＝あてはまりの良さ）を算出することができる。df は自由度 (degrees of freedom)。"
   ]
  },
  {
   "cell_type": "code",
   "execution_count": 23,
   "metadata": {
    "collapsed": false
   },
   "outputs": [
    {
     "data": {
      "text/plain": [
       "'log Lik.' -235.3863 (df=2)"
      ]
     },
     "execution_count": 23,
     "metadata": {},
     "output_type": "execute_result"
    }
   ],
   "source": [
    "logLik(fit)"
   ]
  }
 ],
 "metadata": {
  "kernelspec": {
   "display_name": "R",
   "language": "R",
   "name": "ir"
  },
  "language_info": {
   "codemirror_mode": "r",
   "file_extension": ".r",
   "mimetype": "text/x-r-source",
   "name": "R",
   "pygments_lexer": "r",
   "version": "3.0.2"
  }
 },
 "nbformat": 4,
 "nbformat_minor": 0
}
