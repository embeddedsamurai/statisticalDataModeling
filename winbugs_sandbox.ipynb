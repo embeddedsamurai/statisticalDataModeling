{
 "cells": [
  {
   "cell_type": "code",
   "execution_count": 4,
   "metadata": {
    "collapsed": false
   },
   "outputs": [
    {
     "ename": "ERROR",
     "evalue": "Error in library(BRugs): there is no package called ‘BRugs’\n",
     "output_type": "error",
     "traceback": [
      "Error in library(BRugs): there is no package called ‘BRugs’\n"
     ]
    },
    {
     "name": "stdout",
     "output_type": "stream",
     "text": [
      "\n",
      "bugs> # An example model file is given in:\n",
      "bugs> model.file <- system.file(package=\"R2WinBUGS\", \"model\", \"schools.txt\")\n",
      "\n",
      "bugs> # Let's take a look:\n",
      "bugs> file.show(model.file)\n"
     ]
    },
    {
     "name": "stderr",
     "output_type": "stream",
     "text": [
      "Warning message:\n",
      "In readLines(path):  '/home/tushuhei/.pyenv/versions/anaconda3-2.3.0/lib/R/library/R2WinBUGS/model/schools.txt' で不完全な最終行が見つかりました "
     ]
    },
    {
     "name": "stdout",
     "output_type": "stream",
     "text": [
      "\n",
      "bugs> # Some example data (see ?schools for details):\n",
      "bugs> data(schools)\n",
      "\n",
      "bugs> schools\n",
      "  school estimate   sd\n",
      "1      A    28.39 14.9\n",
      "2      B     7.94 10.2\n",
      "3      C    -2.75 16.3\n",
      "4      D     6.82 11.0\n",
      "5      E    -0.64  9.4\n",
      "6      F     0.63 11.4\n",
      "7      G    18.01 10.4\n",
      "8      H    12.16 17.6\n",
      "\n",
      "bugs> J <- nrow(schools)\n",
      "\n",
      "bugs> y <- schools$estimate\n",
      "\n",
      "bugs> sigma.y <- schools$sd\n",
      "\n",
      "bugs> data <- list(J=J, y=y, sigma.y=sigma.y)\n",
      "\n",
      "bugs> inits <- function(){\n",
      "bugs+     list(theta=rnorm(J, 0, 100), mu.theta=rnorm(1, 0, 100),\n",
      "bugs+          sigma.theta=runif(1, 0, 100))\n",
      "bugs+ }\n",
      "\n",
      "bugs> ## or alternatively something like:\n",
      "bugs> # inits <- list(\n",
      "bugs> #   list(theta=rnorm(J, 0, 90), mu.theta=rnorm(1, 0, 90),\n",
      "bugs> #        sigma.theta=runif(1, 0, 90)),\n",
      "bugs> #   list(theta=rnorm(J, 0, 100), mu.theta=rnorm(1, 0, 100),\n",
      "bugs> #        sigma.theta=runif(1, 0, 100))\n",
      "bugs> #   list(theta=rnorm(J, 0, 110), mu.theta=rnorm(1, 0, 110),\n",
      "bugs> #        sigma.theta=runif(1, 0, 110)))\n",
      "bugs> \n",
      "bugs> parameters <- c(\"theta\", \"mu.theta\", \"sigma.theta\")\n",
      "\n",
      "bugs> ## Not run: \n",
      "bugs> ##D ## You may need to edit \"bugs.directory\",\n",
      "bugs> ##D ## also you need write access in the working directory:\n",
      "bugs> ##D schools.sim <- bugs(data, inits, parameters, model.file,\n",
      "bugs> ##D     n.chains=3, n.iter=5000,\n",
      "bugs> ##D     bugs.directory=\"c:/Program Files/WinBUGS14/\")\n",
      "bugs> ##D print(schools.sim)\n",
      "bugs> ##D plot(schools.sim)\n",
      "bugs> ## End(Not run)\n",
      "bugs> \n",
      "bugs> \n",
      "bugs> \n"
     ]
    },
    {
     "name": "stderr",
     "output_type": "stream",
     "text": [
      "Warning message:\n",
      ":  命令 '/usr/bin/wine -w /home/tushuhei/.pyenv/versions/anaconda3-2.3.0/lib/R/library/R2WinBUGS/model/schools.txt' の実行は状態 2 を持ちました Warning message:\n",
      ":  命令 '/usr/bin/wine -w /tmp/RtmpsUYDZj/history.odc' の実行は状態 2 を持ちました Warning message:\n",
      ":  命令 '/usr/bin/wine -w /tmp/RtmpsUYDZj/data.txt' の実行は状態 2 を持ちました Warning message:\n",
      ":  命令 '/usr/bin/wine -w /tmp/RtmpsUYDZj/coda' の実行は状態 2 を持ちました Warning message:\n",
      ":  命令 '/usr/bin/wine -w /tmp/RtmpsUYDZj/log.odc' の実行は状態 2 を持ちました Warning message:\n",
      ":  命令 '/usr/bin/wine -w /tmp/RtmpsUYDZj/log.txt' の実行は状態 2 を持ちました Warning message:\n",
      ":  命令 '/usr/bin/wine -w /tmp/RtmpsUYDZj/inits1.txt' の実行は状態 2 を持ちました Warning message:\n",
      ":  命令 '/usr/bin/wine -w /tmp/RtmpsUYDZj/inits2.txt' の実行は状態 2 を持ちました Warning message:\n",
      ":  命令 '/usr/bin/wine -w /tmp/RtmpsUYDZj/inits3.txt' の実行は状態 2 を持ちました Warning message:\n",
      ":  命令 '/usr/bin/wine -w /tmp/RtmpsUYDZj/script.txt' の実行は状態 2 を持ちました "
     ]
    },
    {
     "ename": "ERROR",
     "evalue": "Error in bugs.run(n.burnin, bugs.directory, WINE = WINE, useWINE = useWINE, : Look at the log file and\ntry again with 'debug=TRUE' to figure out what went wrong within Bugs.\n",
     "output_type": "error",
     "traceback": [
      "Error in bugs.run(n.burnin, bugs.directory, WINE = WINE, useWINE = useWINE, : Look at the log file and\ntry again with 'debug=TRUE' to figure out what went wrong within Bugs.\n"
     ]
    },
    {
     "ename": "ERROR",
     "evalue": "Error in eval(expr, envir, enclos):  オブジェクト 'schools.sim' がありません \n",
     "output_type": "error",
     "traceback": [
      "Error in eval(expr, envir, enclos):  オブジェクト 'schools.sim' がありません \n"
     ]
    }
   ],
   "source": []
  }
 ],
 "metadata": {
  "kernelspec": {
   "display_name": "R",
   "language": "R",
   "name": "ir"
  },
  "language_info": {
   "codemirror_mode": "r",
   "file_extension": ".r",
   "mimetype": "text/x-r-source",
   "name": "R",
   "pygments_lexer": "r",
   "version": "3.2.2"
  }
 },
 "nbformat": 4,
 "nbformat_minor": 0
}
